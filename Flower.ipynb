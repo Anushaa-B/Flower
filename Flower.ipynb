{
 "cells": [
  {
   "cell_type": "code",
   "execution_count": 1,
   "id": "c7b74e90",
   "metadata": {},
   "outputs": [],
   "source": [
    "import turtle\n",
    "t = turtle.Turtle()\n",
    "s = turtle.Screen()\n",
    "s.bgcolor('black')\n",
    "t.speed(0)\n",
    "radius = 60\n",
    "t.pensize(2)\n",
    "color = ['red','white','red']\n",
    "for x in range(12):\n",
    "    t.color(color[x%3])\n",
    "for i in range(8):\n",
    "    t.circle(radius)\n",
    "    t.right(60)\n",
    "radius = radius + 4"
   ]
  },
  {
   "cell_type": "code",
   "execution_count": null,
   "id": "59c0f1e6",
   "metadata": {},
   "outputs": [],
   "source": []
  }
 ],
 "metadata": {
  "kernelspec": {
   "display_name": "Python 3 (ipykernel)",
   "language": "python",
   "name": "python3"
  },
  "language_info": {
   "codemirror_mode": {
    "name": "ipython",
    "version": 3
   },
   "file_extension": ".py",
   "mimetype": "text/x-python",
   "name": "python",
   "nbconvert_exporter": "python",
   "pygments_lexer": "ipython3",
   "version": "3.11.5"
  }
 },
 "nbformat": 4,
 "nbformat_minor": 5
}
